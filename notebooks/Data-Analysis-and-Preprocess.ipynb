{
 "cells": [
  {
   "cell_type": "markdown",
   "metadata": {},
   "source": [
    "# Data Analysis and Preprocess\n",
    "\n",
    "**Note**: Take into account that all this analysis and preprocess depends on the language that you are working with. In this case, the original dataset is in **English**."
   ]
  },
  {
   "cell_type": "code",
   "execution_count": 1,
   "metadata": {},
   "outputs": [],
   "source": [
    "# Just a bunch of libraries that I've used in the notebook\n",
    "import psycopg2 as pg\n",
    "from psycopg2.extras import RealDictCursor\n",
    "import pandas as pd\n",
    "import numpy as np\n",
    "import statistics\n",
    "import math\n",
    "import re\n",
    "\n",
    "import string\n",
    "import spacy\n",
    "from spacy.lang.en import English\n",
    "\n",
    "import matplotlib.pyplot as plt\n",
    "from collections import Counter"
   ]
  },
  {
   "cell_type": "markdown",
   "metadata": {},
   "source": [
    "## Read the dataset\n",
    "\n",
    "Despite you will find your dataset in a CSV, in this respository the data is stored in a database. Here I have defined a few functions to manage the connection with the database and parse the results."
   ]
  },
  {
   "cell_type": "code",
   "execution_count": 2,
   "metadata": {},
   "outputs": [],
   "source": [
    "def create_connection(db_params):\n",
    "    conn = pg.connect(user = db_params['user'],\n",
    "                            password = db_params['pass'],\n",
    "                            host = db_params['host'],\n",
    "                            port = db_params['port'],\n",
    "                            database = db_params['database'])\n",
    "    return conn"
   ]
  },
  {
   "cell_type": "code",
   "execution_count": 3,
   "metadata": {},
   "outputs": [],
   "source": [
    "def close_connection(conn):\n",
    "    conn.close()"
   ]
  },
  {
   "cell_type": "code",
   "execution_count": 4,
   "metadata": {},
   "outputs": [],
   "source": [
    "# Parse the column of data and the category, and transform them into a Pandas DataFrame to\n",
    "# work in an easier way with them\n",
    "def parse_query_result(query_result):\n",
    "    result = {'text': [], 'category': []}\n",
    "    for row in query_result:\n",
    "        result['text'].append(row['text'])\n",
    "        result['category'].append(row['category'])\n",
    "\n",
    "    return pd.DataFrame(result, columns = ['text', 'category'])"
   ]
  },
  {
   "cell_type": "code",
   "execution_count": 5,
   "metadata": {},
   "outputs": [],
   "source": [
    "# Params of database\n",
    "db_params = {\n",
    "    'host': 'localhost',\n",
    "    'user': 'postgres',\n",
    "    'pass': '',\n",
    "    'port': '54320',\n",
    "    'database': 'tc'\n",
    "}"
   ]
  },
  {
   "cell_type": "code",
   "execution_count": 6,
   "metadata": {},
   "outputs": [],
   "source": [
    "# Create connection and cursor\n",
    "conn = create_connection(db_params)\n",
    "cursor = conn.cursor(cursor_factory=RealDictCursor)\n",
    "\n",
    "sql = 'SELECT '\\\n",
    "      '    t.text, '\\\n",
    "      '    t.category '\\\n",
    "      'FROM texts t'\n",
    "cursor.execute(sql)\n",
    "query_result = cursor.fetchall()\n",
    "\n",
    "close_connection(conn)"
   ]
  },
  {
   "cell_type": "code",
   "execution_count": 7,
   "metadata": {},
   "outputs": [
    {
     "data": {
      "text/html": [
       "<div>\n",
       "<style scoped>\n",
       "    .dataframe tbody tr th:only-of-type {\n",
       "        vertical-align: middle;\n",
       "    }\n",
       "\n",
       "    .dataframe tbody tr th {\n",
       "        vertical-align: top;\n",
       "    }\n",
       "\n",
       "    .dataframe thead th {\n",
       "        text-align: right;\n",
       "    }\n",
       "</style>\n",
       "<table border=\"1\" class=\"dataframe\">\n",
       "  <thead>\n",
       "    <tr style=\"text-align: right;\">\n",
       "      <th></th>\n",
       "      <th>text</th>\n",
       "      <th>category</th>\n",
       "    </tr>\n",
       "  </thead>\n",
       "  <tbody>\n",
       "    <tr>\n",
       "      <th>0</th>\n",
       "      <td>Musicians to tackle US red tape\\n\\nMusicians' ...</td>\n",
       "      <td>entertainment</td>\n",
       "    </tr>\n",
       "    <tr>\n",
       "      <th>1</th>\n",
       "      <td>U2's desire to be number one\\n\\nU2, who have w...</td>\n",
       "      <td>entertainment</td>\n",
       "    </tr>\n",
       "    <tr>\n",
       "      <th>2</th>\n",
       "      <td>Rocker Doherty in on-stage fight\\n\\nRock singe...</td>\n",
       "      <td>entertainment</td>\n",
       "    </tr>\n",
       "    <tr>\n",
       "      <th>3</th>\n",
       "      <td>Snicket tops US box office chart\\n\\nThe film a...</td>\n",
       "      <td>entertainment</td>\n",
       "    </tr>\n",
       "    <tr>\n",
       "      <th>4</th>\n",
       "      <td>Ocean's Twelve raids box office\\n\\nOcean's Twe...</td>\n",
       "      <td>entertainment</td>\n",
       "    </tr>\n",
       "  </tbody>\n",
       "</table>\n",
       "</div>"
      ],
      "text/plain": [
       "                                                text       category\n",
       "0  Musicians to tackle US red tape\\n\\nMusicians' ...  entertainment\n",
       "1  U2's desire to be number one\\n\\nU2, who have w...  entertainment\n",
       "2  Rocker Doherty in on-stage fight\\n\\nRock singe...  entertainment\n",
       "3  Snicket tops US box office chart\\n\\nThe film a...  entertainment\n",
       "4  Ocean's Twelve raids box office\\n\\nOcean's Twe...  entertainment"
      ]
     },
     "execution_count": 7,
     "metadata": {},
     "output_type": "execute_result"
    }
   ],
   "source": [
    "df = parse_query_result(query_result)\n",
    "df.head() # Sample"
   ]
  },
  {
   "cell_type": "markdown",
   "metadata": {},
   "source": [
    "## Overview of dataset\n",
    "\n",
    "As you can see in the following plot, the samples **are not balanced**. This could cause problems during the training but, since they are not highly unbalanced, I have left it as it is.\n",
    "\n",
    "In other cases, such as fraud detecting where the positive classes are very few compared to the negative ones, we must apply techniques to balance it. For example, we could undersample the biggest category.\n",
    "\n",
    "With this simple SQL query, we can see the number of texts for each category:\n",
    "```sql\n",
    "SELECT\n",
    "    t.category,\n",
    "    COUNT(*) total\n",
    "FROM texts t\n",
    "GROUP BY t.category\n",
    "ORDER BY total DESC\n",
    "```"
   ]
  },
  {
   "cell_type": "code",
   "execution_count": 54,
   "metadata": {},
   "outputs": [
    {
     "data": {
      "image/png": "[encoded data removed]",
      "text/plain": [
       "<Figure size 720x360 with 1 Axes>"
      ]
     },
     "metadata": {
      "needs_background": "light"
     },
     "output_type": "display_data"
    },
    {
     "name": "stdout",
     "output_type": "stream",
     "text": [
      "Counter({'sport': 511, 'business': 510, 'politics': 417, 'tech': 401, 'entertainment': 386})\n"
     ]
    }
   ],
   "source": [
    "categories = df[['category']].values.reshape(-1)\n",
    "\n",
    "counter_categories = Counter(categories)\n",
    "category_names = counter_categories.keys()\n",
    "category_values = counter_categories.values()\n",
    "\n",
    "y_pos = np.arange(len(category_names))\n",
    "\n",
    "plt.figure(1, figsize=(10, 5))\n",
    "plt.bar(y_pos, category_values, align='center', alpha=0.5)\n",
    "plt.xticks(y_pos, category_names)\n",
    "plt.ylabel('Number of texts')\n",
    "plt.title('Distribution of texts per category')\n",
    "plt.gca().yaxis.grid(True)\n",
    "plt.show()\n",
    "\n",
    "print(counter_categories)"
   ]
  },
  {
   "cell_type": "markdown",
   "metadata": {},
   "source": [
    "In order to compare the results later, I have defined a function to calculate the statistics of the dataset, and then I have used it after each preprocess step."
   ]
  },
  {
   "cell_type": "code",
   "execution_count": 9,
   "metadata": {},
   "outputs": [],
   "source": [
    "def calculate_stats(df, split_char=' '):\n",
    "    categories = df['category'].unique()\n",
    "    \n",
    "    all_lengths = []\n",
    "    per_category = {\n",
    "        'lengths': {c:[] for c in categories},\n",
    "        'mean': {c:0 for c in categories},\n",
    "        'stdev': {c:0 for c in categories}\n",
    "    }\n",
    "\n",
    "    for index, row in df.iterrows():\n",
    "        text = row['text']\n",
    "        text = re.sub(r\"\\s+\", ' ', text) # Normalize\n",
    "        text = text.split(split_char)\n",
    "        l = len(text)\n",
    "        \n",
    "        category = row['category']\n",
    "        \n",
    "        all_lengths.append(l)\n",
    "        per_category['lengths'][category].append(l)\n",
    "    \n",
    "    for c in categories:\n",
    "        per_category['mean'][c] = statistics.mean(per_category['lengths'][c])\n",
    "        per_category['stdev'][c] = statistics.stdev(per_category['lengths'][c])\n",
    "    \n",
    "    global_stats = {\n",
    "        'mean': statistics.mean(all_lengths),\n",
    "        'stdev': statistics.stdev(all_lengths),\n",
    "        'lengths': all_lengths\n",
    "    }\n",
    "    \n",
    "    return {\n",
    "        'global': global_stats,\n",
    "        'per_category': pd.DataFrame(per_category)\n",
    "    }"
   ]
  },
  {
   "cell_type": "code",
   "execution_count": 10,
   "metadata": {},
   "outputs": [],
   "source": [
    "def display_lengths_histograms(df_stats, n_cols=3):\n",
    "    categories = df['category'].unique()\n",
    "    n_rows = math.ceil(len(categories) / n_cols)\n",
    "    \n",
    "    plt.figure(figsize=(15, 8))\n",
    "    plt.suptitle('Distribution of lengths')\n",
    "    \n",
    "    # Subplot of all lengths\n",
    "    plt.subplot(n_rows, n_cols, 1)\n",
    "    plt.title('All categories')\n",
    "    lengths = df_stats['global']['lengths']\n",
    "    plt.hist(lengths, color='r')\n",
    "\n",
    "    # Subplot of each category\n",
    "    index_subplot = 2\n",
    "    for c in categories:\n",
    "        plt.subplot(n_rows, n_cols, index_subplot)\n",
    "        plt.title('Category: %s' % c)\n",
    "        \n",
    "        lengths = df_stats['per_category']['lengths'][c]\n",
    "        plt.hist(lengths, color='b')\n",
    "\n",
    "        index_subplot += 1\n",
    "\n",
    "    plt.show()"
   ]
  },
  {
   "cell_type": "markdown",
   "metadata": {},
   "source": [
    "In these histograms and stats, we can see that almost all texts contain $1000$ or less words. Also, we can see that the average length is very different depending on the category."
   ]
  },
  {
   "cell_type": "code",
   "execution_count": 11,
   "metadata": {},
   "outputs": [
    {
     "data": {
      "text/html": [
       "<div>\n",
       "<style scoped>\n",
       "    .dataframe tbody tr th:only-of-type {\n",
       "        vertical-align: middle;\n",
       "    }\n",
       "\n",
       "    .dataframe tbody tr th {\n",
       "        vertical-align: top;\n",
       "    }\n",
       "\n",
       "    .dataframe thead th {\n",
       "        text-align: right;\n",
       "    }\n",
       "</style>\n",
       "<table border=\"1\" class=\"dataframe\">\n",
       "  <thead>\n",
       "    <tr style=\"text-align: right;\">\n",
       "      <th></th>\n",
       "      <th>lengths</th>\n",
       "      <th>mean</th>\n",
       "      <th>stdev</th>\n",
       "    </tr>\n",
       "  </thead>\n",
       "  <tbody>\n",
       "    <tr>\n",
       "      <th>entertainment</th>\n",
       "      <td>[379, 839, 359, 177, 252, 334, 253, 312, 212, ...</td>\n",
       "      <td>331.621762</td>\n",
       "      <td>261.795254</td>\n",
       "    </tr>\n",
       "    <tr>\n",
       "      <th>sport</th>\n",
       "      <td>[127, 150, 161, 142, 148, 138, 1384, 496, 400,...</td>\n",
       "      <td>330.262231</td>\n",
       "      <td>187.963267</td>\n",
       "    </tr>\n",
       "    <tr>\n",
       "      <th>business</th>\n",
       "      <td>[186, 143, 188, 325, 449, 547, 174, 151, 144, ...</td>\n",
       "      <td>329.880392</td>\n",
       "      <td>135.919077</td>\n",
       "    </tr>\n",
       "    <tr>\n",
       "      <th>politics</th>\n",
       "      <td>[224, 576, 586, 249, 428, 495, 463, 456, 202, ...</td>\n",
       "      <td>454.973621</td>\n",
       "      <td>300.120275</td>\n",
       "    </tr>\n",
       "    <tr>\n",
       "      <th>tech</th>\n",
       "      <td>[447, 217, 582, 278, 501, 375, 467, 368, 356, ...</td>\n",
       "      <td>503.695761</td>\n",
       "      <td>239.849176</td>\n",
       "    </tr>\n",
       "  </tbody>\n",
       "</table>\n",
       "</div>"
      ],
      "text/plain": [
       "                                                         lengths        mean  \\\n",
       "entertainment  [379, 839, 359, 177, 252, 334, 253, 312, 212, ...  331.621762   \n",
       "sport          [127, 150, 161, 142, 148, 138, 1384, 496, 400,...  330.262231   \n",
       "business       [186, 143, 188, 325, 449, 547, 174, 151, 144, ...  329.880392   \n",
       "politics       [224, 576, 586, 249, 428, 495, 463, 456, 202, ...  454.973621   \n",
       "tech           [447, 217, 582, 278, 501, 375, 467, 368, 356, ...  503.695761   \n",
       "\n",
       "                    stdev  \n",
       "entertainment  261.795254  \n",
       "sport          187.963267  \n",
       "business       135.919077  \n",
       "politics       300.120275  \n",
       "tech           239.849176  "
      ]
     },
     "execution_count": 11,
     "metadata": {},
     "output_type": "execute_result"
    }
   ],
   "source": [
    "df_stats = {} # Here we will store the statistics after each preprocess\n",
    "\n",
    "df_stats['initial'] = calculate_stats(df)\n",
    "df_stats['initial']['per_category']"
   ]
  },
  {
   "cell_type": "code",
   "execution_count": 12,
   "metadata": {},
   "outputs": [
    {
     "data": {
      "image/png": "[encoded data removed]",
      "text/plain": [
       "<Figure size 1080x576 with 6 Axes>"
      ]
     },
     "metadata": {
      "needs_background": "light"
     },
     "output_type": "display_data"
    }
   ],
   "source": [
    "display_lengths_histograms(df_stats['initial'])"
   ]
  },
  {
   "cell_type": "markdown",
   "metadata": {},
   "source": [
    "## Preprocess: clean characters\n",
    "\n",
    "Before I start to apply other techniques to clean the texts, I have removed every character which cannot be used to write words in English (this set of characters is different in other languages). Using the following function, I have removed all puntuation symbols from all texts as well as I have normalized the white spaces."
   ]
  },
  {
   "cell_type": "code",
   "execution_count": 14,
   "metadata": {},
   "outputs": [],
   "source": [
    "def apply_char_cleaner(df):\n",
    "    for index, row in df.iterrows():\n",
    "        text = row['text']\n",
    "        \n",
    "        for symbol in list(string.punctuation) :\n",
    "            # Replace the string\n",
    "            text = text.replace(symbol, ' ')\n",
    "\n",
    "        # Normalize white spaces\n",
    "        text = re.sub(r\"\\s+\", ' ', text)\n",
    "        \n",
    "        row['text'] = text\n",
    "    \n",
    "    return df"
   ]
  },
  {
   "cell_type": "code",
   "execution_count": 15,
   "metadata": {},
   "outputs": [
    {
     "data": {
      "text/html": [
       "<div>\n",
       "<style scoped>\n",
       "    .dataframe tbody tr th:only-of-type {\n",
       "        vertical-align: middle;\n",
       "    }\n",
       "\n",
       "    .dataframe tbody tr th {\n",
       "        vertical-align: top;\n",
       "    }\n",
       "\n",
       "    .dataframe thead th {\n",
       "        text-align: right;\n",
       "    }\n",
       "</style>\n",
       "<table border=\"1\" class=\"dataframe\">\n",
       "  <thead>\n",
       "    <tr style=\"text-align: right;\">\n",
       "      <th></th>\n",
       "      <th>text</th>\n",
       "      <th>category</th>\n",
       "    </tr>\n",
       "  </thead>\n",
       "  <tbody>\n",
       "    <tr>\n",
       "      <th>0</th>\n",
       "      <td>Musicians to tackle US red tape Musicians grou...</td>\n",
       "      <td>entertainment</td>\n",
       "    </tr>\n",
       "    <tr>\n",
       "      <th>1</th>\n",
       "      <td>U2 s desire to be number one U2 who have won t...</td>\n",
       "      <td>entertainment</td>\n",
       "    </tr>\n",
       "    <tr>\n",
       "      <th>2</th>\n",
       "      <td>Rocker Doherty in on stage fight Rock singer P...</td>\n",
       "      <td>entertainment</td>\n",
       "    </tr>\n",
       "    <tr>\n",
       "      <th>3</th>\n",
       "      <td>Snicket tops US box office chart The film adap...</td>\n",
       "      <td>entertainment</td>\n",
       "    </tr>\n",
       "    <tr>\n",
       "      <th>4</th>\n",
       "      <td>Ocean s Twelve raids box office Ocean s Twelve...</td>\n",
       "      <td>entertainment</td>\n",
       "    </tr>\n",
       "  </tbody>\n",
       "</table>\n",
       "</div>"
      ],
      "text/plain": [
       "                                                text       category\n",
       "0  Musicians to tackle US red tape Musicians grou...  entertainment\n",
       "1  U2 s desire to be number one U2 who have won t...  entertainment\n",
       "2  Rocker Doherty in on stage fight Rock singer P...  entertainment\n",
       "3  Snicket tops US box office chart The film adap...  entertainment\n",
       "4  Ocean s Twelve raids box office Ocean s Twelve...  entertainment"
      ]
     },
     "execution_count": 15,
     "metadata": {},
     "output_type": "execute_result"
    }
   ],
   "source": [
    "df = apply_char_cleaner(df)\n",
    "df.head() # Sample"
   ]
  },
  {
   "cell_type": "code",
   "execution_count": 16,
   "metadata": {},
   "outputs": [
    {
     "data": {
      "text/html": [
       "<div>\n",
       "<style scoped>\n",
       "    .dataframe tbody tr th:only-of-type {\n",
       "        vertical-align: middle;\n",
       "    }\n",
       "\n",
       "    .dataframe tbody tr th {\n",
       "        vertical-align: top;\n",
       "    }\n",
       "\n",
       "    .dataframe thead th {\n",
       "        text-align: right;\n",
       "    }\n",
       "</style>\n",
       "<table border=\"1\" class=\"dataframe\">\n",
       "  <thead>\n",
       "    <tr style=\"text-align: right;\">\n",
       "      <th></th>\n",
       "      <th>lengths</th>\n",
       "      <th>mean</th>\n",
       "      <th>stdev</th>\n",
       "    </tr>\n",
       "  </thead>\n",
       "  <tbody>\n",
       "    <tr>\n",
       "      <th>entertainment</th>\n",
       "      <td>[387, 852, 370, 185, 270, 346, 254, 340, 221, ...</td>\n",
       "      <td>340.958549</td>\n",
       "      <td>267.569471</td>\n",
       "    </tr>\n",
       "    <tr>\n",
       "      <th>sport</th>\n",
       "      <td>[133, 163, 166, 144, 153, 143, 1433, 527, 407,...</td>\n",
       "      <td>342.142857</td>\n",
       "      <td>193.835379</td>\n",
       "    </tr>\n",
       "    <tr>\n",
       "      <th>business</th>\n",
       "      <td>[188, 146, 192, 330, 458, 586, 183, 157, 144, ...</td>\n",
       "      <td>339.323529</td>\n",
       "      <td>138.047525</td>\n",
       "    </tr>\n",
       "    <tr>\n",
       "      <th>politics</th>\n",
       "      <td>[229, 582, 593, 257, 434, 508, 475, 460, 207, ...</td>\n",
       "      <td>462.544365</td>\n",
       "      <td>305.206438</td>\n",
       "    </tr>\n",
       "    <tr>\n",
       "      <th>tech</th>\n",
       "      <td>[456, 224, 593, 279, 515, 383, 472, 377, 361, ...</td>\n",
       "      <td>514.276808</td>\n",
       "      <td>243.082642</td>\n",
       "    </tr>\n",
       "  </tbody>\n",
       "</table>\n",
       "</div>"
      ],
      "text/plain": [
       "                                                         lengths        mean  \\\n",
       "entertainment  [387, 852, 370, 185, 270, 346, 254, 340, 221, ...  340.958549   \n",
       "sport          [133, 163, 166, 144, 153, 143, 1433, 527, 407,...  342.142857   \n",
       "business       [188, 146, 192, 330, 458, 586, 183, 157, 144, ...  339.323529   \n",
       "politics       [229, 582, 593, 257, 434, 508, 475, 460, 207, ...  462.544365   \n",
       "tech           [456, 224, 593, 279, 515, 383, 472, 377, 361, ...  514.276808   \n",
       "\n",
       "                    stdev  \n",
       "entertainment  267.569471  \n",
       "sport          193.835379  \n",
       "business       138.047525  \n",
       "politics       305.206438  \n",
       "tech           243.082642  "
      ]
     },
     "execution_count": 16,
     "metadata": {},
     "output_type": "execute_result"
    }
   ],
   "source": [
    "df_stats['char_cleaner'] = calculate_stats(df)\n",
    "df_stats['char_cleaner']['per_category']"
   ]
  },
  {
   "cell_type": "markdown",
   "metadata": {},
   "source": [
    "The average length is greater now but, why? Since I have _normalized_ the characters in the texts, there are many more white spaces now, hence apparently there are more words. For example, if I had in the original text \"*U2's desire*\", now I have \"*U2 s desire*\" (i.e. one more word has appeared due to I have tokenized using the white spaces)."
   ]
  },
  {
   "cell_type": "markdown",
   "metadata": {},
   "source": [
    "## Preprocess: Lematization\n",
    "\n",
    "In this notebook, we are going to do **lematization** over all the texts. To do so, we will use the library **Spacy** since it already has detailed dictionaries which the algorithm can look through to link the form back to its lemma.\n",
    "\n",
    "We can illustrate the method with an example:\n",
    "\n",
    "| Word | Lemma |\n",
    "|---|---|\n",
    "| studying | study |\n",
    "| studies | study |\n",
    "\n",
    "This process may look similar to *stemming* (which we are not going to use), but it leads to a different result."
   ]
  },
  {
   "cell_type": "code",
   "execution_count": 17,
   "metadata": {},
   "outputs": [],
   "source": [
    "def apply_lematization(df, join_char=' '):\n",
    "    nlp = English()\n",
    "\n",
    "    for index, row in df.iterrows():\n",
    "        text = row['text']\n",
    "        tokens = nlp(text)\n",
    "        text = [ w.lemma_.strip().lower() if w.lemma_ != \"-PRON-\" else w.lower_ for w in tokens ]\n",
    "        row['text'] = join_char.join(text)\n",
    "    \n",
    "    return df"
   ]
  },
  {
   "cell_type": "code",
   "execution_count": 18,
   "metadata": {},
   "outputs": [
    {
     "data": {
      "text/html": [
       "<div>\n",
       "<style scoped>\n",
       "    .dataframe tbody tr th:only-of-type {\n",
       "        vertical-align: middle;\n",
       "    }\n",
       "\n",
       "    .dataframe tbody tr th {\n",
       "        vertical-align: top;\n",
       "    }\n",
       "\n",
       "    .dataframe thead th {\n",
       "        text-align: right;\n",
       "    }\n",
       "</style>\n",
       "<table border=\"1\" class=\"dataframe\">\n",
       "  <thead>\n",
       "    <tr style=\"text-align: right;\">\n",
       "      <th></th>\n",
       "      <th>text</th>\n",
       "      <th>category</th>\n",
       "    </tr>\n",
       "  </thead>\n",
       "  <tbody>\n",
       "    <tr>\n",
       "      <th>0</th>\n",
       "      <td>musicians to tackle us red tape musicians grou...</td>\n",
       "      <td>entertainment</td>\n",
       "    </tr>\n",
       "    <tr>\n",
       "      <th>1</th>\n",
       "      <td>u2 s desire to be number one u2 who have won t...</td>\n",
       "      <td>entertainment</td>\n",
       "    </tr>\n",
       "    <tr>\n",
       "      <th>2</th>\n",
       "      <td>rocker doherty in on stage fight rock singer p...</td>\n",
       "      <td>entertainment</td>\n",
       "    </tr>\n",
       "    <tr>\n",
       "      <th>3</th>\n",
       "      <td>snicket tops us box office chart the film adap...</td>\n",
       "      <td>entertainment</td>\n",
       "    </tr>\n",
       "    <tr>\n",
       "      <th>4</th>\n",
       "      <td>ocean s twelve raids box office ocean s twelve...</td>\n",
       "      <td>entertainment</td>\n",
       "    </tr>\n",
       "  </tbody>\n",
       "</table>\n",
       "</div>"
      ],
      "text/plain": [
       "                                                text       category\n",
       "0  musicians to tackle us red tape musicians grou...  entertainment\n",
       "1  u2 s desire to be number one u2 who have won t...  entertainment\n",
       "2  rocker doherty in on stage fight rock singer p...  entertainment\n",
       "3  snicket tops us box office chart the film adap...  entertainment\n",
       "4  ocean s twelve raids box office ocean s twelve...  entertainment"
      ]
     },
     "execution_count": 18,
     "metadata": {},
     "output_type": "execute_result"
    }
   ],
   "source": [
    "df = apply_lematization(df)\n",
    "df.head() # Sample"
   ]
  },
  {
   "cell_type": "code",
   "execution_count": 19,
   "metadata": {},
   "outputs": [
    {
     "data": {
      "text/html": [
       "<div>\n",
       "<style scoped>\n",
       "    .dataframe tbody tr th:only-of-type {\n",
       "        vertical-align: middle;\n",
       "    }\n",
       "\n",
       "    .dataframe tbody tr th {\n",
       "        vertical-align: top;\n",
       "    }\n",
       "\n",
       "    .dataframe thead th {\n",
       "        text-align: right;\n",
       "    }\n",
       "</style>\n",
       "<table border=\"1\" class=\"dataframe\">\n",
       "  <thead>\n",
       "    <tr style=\"text-align: right;\">\n",
       "      <th></th>\n",
       "      <th>lengths</th>\n",
       "      <th>mean</th>\n",
       "      <th>stdev</th>\n",
       "    </tr>\n",
       "  </thead>\n",
       "  <tbody>\n",
       "    <tr>\n",
       "      <th>entertainment</th>\n",
       "      <td>[387, 851, 370, 190, 284, 345, 254, 372, 220, ...</td>\n",
       "      <td>341.756477</td>\n",
       "      <td>267.512869</td>\n",
       "    </tr>\n",
       "    <tr>\n",
       "      <th>sport</th>\n",
       "      <td>[132, 162, 165, 144, 152, 142, 1433, 526, 406,...</td>\n",
       "      <td>342.199609</td>\n",
       "      <td>194.892085</td>\n",
       "    </tr>\n",
       "    <tr>\n",
       "      <th>business</th>\n",
       "      <td>[188, 150, 191, 329, 457, 585, 182, 156, 146, ...</td>\n",
       "      <td>340.292157</td>\n",
       "      <td>138.200201</td>\n",
       "    </tr>\n",
       "    <tr>\n",
       "      <th>politics</th>\n",
       "      <td>[228, 586, 601, 256, 433, 507, 475, 459, 206, ...</td>\n",
       "      <td>462.916067</td>\n",
       "      <td>306.206685</td>\n",
       "    </tr>\n",
       "    <tr>\n",
       "      <th>tech</th>\n",
       "      <td>[457, 223, 594, 278, 515, 382, 475, 376, 360, ...</td>\n",
       "      <td>514.389027</td>\n",
       "      <td>243.494452</td>\n",
       "    </tr>\n",
       "  </tbody>\n",
       "</table>\n",
       "</div>"
      ],
      "text/plain": [
       "                                                         lengths        mean  \\\n",
       "entertainment  [387, 851, 370, 190, 284, 345, 254, 372, 220, ...  341.756477   \n",
       "sport          [132, 162, 165, 144, 152, 142, 1433, 526, 406,...  342.199609   \n",
       "business       [188, 150, 191, 329, 457, 585, 182, 156, 146, ...  340.292157   \n",
       "politics       [228, 586, 601, 256, 433, 507, 475, 459, 206, ...  462.916067   \n",
       "tech           [457, 223, 594, 278, 515, 382, 475, 376, 360, ...  514.389027   \n",
       "\n",
       "                    stdev  \n",
       "entertainment  267.512869  \n",
       "sport          194.892085  \n",
       "business       138.200201  \n",
       "politics       306.206685  \n",
       "tech           243.494452  "
      ]
     },
     "execution_count": 19,
     "metadata": {},
     "output_type": "execute_result"
    }
   ],
   "source": [
    "df_stats['lematization'] = calculate_stats(df)\n",
    "df_stats['lematization']['per_category']"
   ]
  },
  {
   "cell_type": "markdown",
   "metadata": {},
   "source": [
    "## Preprocess: Stop words\n",
    "\n",
    "Stop words are a set of commonly used words in any language. For example, in English, \"the\", \"is\" and \"or\", would easily qualify as stop words. These words are not semantically useful in the sentences, thus it is a good idea to remove them and focus on important words instead."
   ]
  },
  {
   "cell_type": "code",
   "execution_count": 20,
   "metadata": {},
   "outputs": [],
   "source": [
    "def apply_stop_words(df, join_char=' ', split_char=' '):\n",
    "    stop_words = list(spacy.lang.en.stop_words.STOP_WORDS) + list(string.punctuation)\n",
    "    nlp = English()\n",
    "\n",
    "    for index, row in df.iterrows():\n",
    "        tokens = row['text'].split(split_char)\n",
    "        text = [w for w in tokens if w not in stop_words]\n",
    "        row['text'] = join_char.join(text)\n",
    "    \n",
    "    return df"
   ]
  },
  {
   "cell_type": "code",
   "execution_count": 21,
   "metadata": {},
   "outputs": [
    {
     "data": {
      "text/html": [
       "<div>\n",
       "<style scoped>\n",
       "    .dataframe tbody tr th:only-of-type {\n",
       "        vertical-align: middle;\n",
       "    }\n",
       "\n",
       "    .dataframe tbody tr th {\n",
       "        vertical-align: top;\n",
       "    }\n",
       "\n",
       "    .dataframe thead th {\n",
       "        text-align: right;\n",
       "    }\n",
       "</style>\n",
       "<table border=\"1\" class=\"dataframe\">\n",
       "  <thead>\n",
       "    <tr style=\"text-align: right;\">\n",
       "      <th></th>\n",
       "      <th>text</th>\n",
       "      <th>category</th>\n",
       "    </tr>\n",
       "  </thead>\n",
       "  <tbody>\n",
       "    <tr>\n",
       "      <th>0</th>\n",
       "      <td>musicians tackle red tape musicians groups tac...</td>\n",
       "      <td>entertainment</td>\n",
       "    </tr>\n",
       "    <tr>\n",
       "      <th>1</th>\n",
       "      <td>u2 s desire number u2 won prestigious grammy a...</td>\n",
       "      <td>entertainment</td>\n",
       "    </tr>\n",
       "    <tr>\n",
       "      <th>2</th>\n",
       "      <td>rocker doherty stage fight rock singer pete do...</td>\n",
       "      <td>entertainment</td>\n",
       "    </tr>\n",
       "    <tr>\n",
       "      <th>3</th>\n",
       "      <td>snicket tops box office chart film adaptation ...</td>\n",
       "      <td>entertainment</td>\n",
       "    </tr>\n",
       "    <tr>\n",
       "      <th>4</th>\n",
       "      <td>ocean s raids box office ocean s crime caper s...</td>\n",
       "      <td>entertainment</td>\n",
       "    </tr>\n",
       "  </tbody>\n",
       "</table>\n",
       "</div>"
      ],
      "text/plain": [
       "                                                text       category\n",
       "0  musicians tackle red tape musicians groups tac...  entertainment\n",
       "1  u2 s desire number u2 won prestigious grammy a...  entertainment\n",
       "2  rocker doherty stage fight rock singer pete do...  entertainment\n",
       "3  snicket tops box office chart film adaptation ...  entertainment\n",
       "4  ocean s raids box office ocean s crime caper s...  entertainment"
      ]
     },
     "execution_count": 21,
     "metadata": {},
     "output_type": "execute_result"
    }
   ],
   "source": [
    "df = apply_stop_words(df)\n",
    "df.head() # Sample"
   ]
  },
  {
   "cell_type": "code",
   "execution_count": 22,
   "metadata": {},
   "outputs": [
    {
     "data": {
      "text/html": [
       "<div>\n",
       "<style scoped>\n",
       "    .dataframe tbody tr th:only-of-type {\n",
       "        vertical-align: middle;\n",
       "    }\n",
       "\n",
       "    .dataframe tbody tr th {\n",
       "        vertical-align: top;\n",
       "    }\n",
       "\n",
       "    .dataframe thead th {\n",
       "        text-align: right;\n",
       "    }\n",
       "</style>\n",
       "<table border=\"1\" class=\"dataframe\">\n",
       "  <thead>\n",
       "    <tr style=\"text-align: right;\">\n",
       "      <th></th>\n",
       "      <th>lengths</th>\n",
       "      <th>mean</th>\n",
       "      <th>stdev</th>\n",
       "    </tr>\n",
       "  </thead>\n",
       "  <tbody>\n",
       "    <tr>\n",
       "      <th>entertainment</th>\n",
       "      <td>[189, 422, 195, 121, 190, 213, 143, 254, 132, ...</td>\n",
       "      <td>190.419689</td>\n",
       "      <td>130.869798</td>\n",
       "    </tr>\n",
       "    <tr>\n",
       "      <th>sport</th>\n",
       "      <td>[97, 93, 102, 80, 82, 78, 775, 290, 255, 78, 7...</td>\n",
       "      <td>179.483366</td>\n",
       "      <td>103.789546</td>\n",
       "    </tr>\n",
       "    <tr>\n",
       "      <th>business</th>\n",
       "      <td>[104, 96, 121, 187, 260, 366, 114, 95, 90, 149...</td>\n",
       "      <td>195.225490</td>\n",
       "      <td>73.724612</td>\n",
       "    </tr>\n",
       "    <tr>\n",
       "      <th>politics</th>\n",
       "      <td>[129, 323, 324, 133, 234, 267, 263, 207, 126, ...</td>\n",
       "      <td>242.575540</td>\n",
       "      <td>142.432507</td>\n",
       "    </tr>\n",
       "    <tr>\n",
       "      <th>tech</th>\n",
       "      <td>[221, 129, 316, 149, 259, 189, 250, 192, 185, ...</td>\n",
       "      <td>270.174564</td>\n",
       "      <td>114.610098</td>\n",
       "    </tr>\n",
       "  </tbody>\n",
       "</table>\n",
       "</div>"
      ],
      "text/plain": [
       "                                                         lengths        mean  \\\n",
       "entertainment  [189, 422, 195, 121, 190, 213, 143, 254, 132, ...  190.419689   \n",
       "sport          [97, 93, 102, 80, 82, 78, 775, 290, 255, 78, 7...  179.483366   \n",
       "business       [104, 96, 121, 187, 260, 366, 114, 95, 90, 149...  195.225490   \n",
       "politics       [129, 323, 324, 133, 234, 267, 263, 207, 126, ...  242.575540   \n",
       "tech           [221, 129, 316, 149, 259, 189, 250, 192, 185, ...  270.174564   \n",
       "\n",
       "                    stdev  \n",
       "entertainment  130.869798  \n",
       "sport          103.789546  \n",
       "business        73.724612  \n",
       "politics       142.432507  \n",
       "tech           114.610098  "
      ]
     },
     "execution_count": 22,
     "metadata": {},
     "output_type": "execute_result"
    }
   ],
   "source": [
    "df_stats['stop_words'] = calculate_stats(df)\n",
    "df_stats['stop_words']['per_category']"
   ]
  },
  {
   "cell_type": "markdown",
   "metadata": {},
   "source": [
    "Now we can see that, after I have removed the *stop words*, the average lengths have decreased significantly."
   ]
  },
  {
   "cell_type": "markdown",
   "metadata": {},
   "source": [
    "## Preprocess: TF-IDF\n",
    "\n",
    "The TF-IDF value is calculated by multiplying the term frequency by the inverse document frequency (see https://en.wikipedia.org/wiki/Tf-idf). \n",
    "\n",
    "In the following code, I have removed the words based on the TF-IDF value. That is, I have removed from the dataset those words whose TF-IDF value is less than a certain threshold."
   ]
  },
  {
   "cell_type": "code",
   "execution_count": 24,
   "metadata": {},
   "outputs": [],
   "source": [
    "def calculate_tf(df, split_char=' '):\n",
    "    tf = []\n",
    "    for index, row in df.iterrows():\n",
    "        tokens = row['text'].split(split_char)\n",
    "        \n",
    "        words_freqs = {}\n",
    "        for w in tokens:\n",
    "            words_freqs[w] = 1 if w not in words_freqs else (words_freqs[w] + 1)\n",
    "        \n",
    "        max_freq = max(list(words_freqs.values()))\n",
    "        words_freqs = {w:(abs_freq / max_freq) for w, abs_freq in words_freqs.items()}\n",
    "        \n",
    "        tf.append(words_freqs)\n",
    "    \n",
    "    return tf"
   ]
  },
  {
   "cell_type": "code",
   "execution_count": 25,
   "metadata": {},
   "outputs": [],
   "source": [
    "def calculate_idf(df, split_char=' '):\n",
    "    idf = {}\n",
    "    n_docs = len(df.index)\n",
    "    \n",
    "    count_usage = {}\n",
    "    for index, row in df.iterrows():\n",
    "        tokens = row['text'].split(split_char)\n",
    "        \n",
    "        vocabulary_in_doc = list(set(tokens))\n",
    "        for w in vocabulary_in_doc:\n",
    "            if w not in count_usage:\n",
    "                count_usage[w] = 1\n",
    "            else:\n",
    "                count_usage[w] += 1\n",
    "    \n",
    "    for w, count in count_usage.items():            \n",
    "        idf[w] = math.log(n_docs / count)\n",
    "    \n",
    "    return idf"
   ]
  },
  {
   "cell_type": "code",
   "execution_count": 28,
   "metadata": {},
   "outputs": [],
   "source": [
    "def calculate_tf_idf(df, split_char=' '):\n",
    "    tf = calculate_tf(df, split_char)\n",
    "    idf = calculate_idf(df, split_char)\n",
    "    \n",
    "    tf_idf = []\n",
    "    for index, row in df.iterrows():\n",
    "        tokens = row['text'].split(split_char)\n",
    "        vocabulary_in_doc = list(set(tokens))\n",
    "        \n",
    "        row_tf_idf = {}\n",
    "        for w in vocabulary_in_doc:\n",
    "            row_tf_idf[w] = tf[index][w] * idf[w]\n",
    "        \n",
    "        tf_idf.append(row_tf_idf)\n",
    "    \n",
    "    return tf_idf"
   ]
  },
  {
   "cell_type": "markdown",
   "metadata": {},
   "source": [
    "To find the threshold value for each document $d$, first I did some computations.\n",
    "\n",
    "I have normalized the TF-IDF values as a distribution function. This means that the sum of all TF-IDF values is $1$:\n",
    "\n",
    "$$\\sum_{w\\ \\in\\ d} \\text{tf-idf}(w, d) = 1$$\n",
    "\n",
    "Then, after I sorted the TF-IDF values in descendant order, I have calculated the value $k$ such as the sum\n",
    "\n",
    "$$\\sum_{i = 1}^{k} \\text{tf-idf}(w_i, d)$$\n",
    "\n",
    "is less than a certain p-value (in this code, I used $0.975$).\n",
    "\n",
    "Finally, the value $\\text{tf-idf}(w_k, d)$ is the threshold that I have used in the document $d$."
   ]
  },
  {
   "cell_type": "code",
   "execution_count": 29,
   "metadata": {},
   "outputs": [],
   "source": [
    "def apply_tf_idf(df, split_char=' ', join_char=' '):\n",
    "    all_tf_idf = calculate_tf_idf(df, split_char)\n",
    "    \n",
    "    for doc_i, doc_tf_idf in enumerate(all_tf_idf):\n",
    "        doc_tf_idf = {k: v for k, v in sorted(doc_tf_idf.items(), key=lambda item: item[1], reverse=True)}\n",
    "        doc_tf_idf_values = np.array(list(doc_tf_idf.values()))\n",
    "\n",
    "        probs = doc_tf_idf_values / sum(doc_tf_idf_values)\n",
    "        \n",
    "        p_value = 0\n",
    "        for i, p in enumerate(probs):\n",
    "            if p_value < 0.975:\n",
    "                p_value += p\n",
    "            else:\n",
    "                break\n",
    "        \n",
    "        threshold = doc_tf_idf_values[i]\n",
    "        \n",
    "        row = df.loc[doc_i, :]\n",
    "        tokens = row['text'].split(split_char)\n",
    "        i = len(tokens)\n",
    "        \n",
    "        original_tokens = tokens.copy()\n",
    "        while i >= 0:\n",
    "            i -= 1\n",
    "            \n",
    "            w = tokens[i]\n",
    "            if doc_tf_idf[w] < threshold:\n",
    "                del tokens[i]\n",
    "            \n",
    "        \n",
    "        doc_tf_idf = {k: v for k, v in sorted(doc_tf_idf.items(), key=lambda item: item[1])}        \n",
    "        row['text'] = join_char.join(tokens)\n",
    "    \n",
    "    return df"
   ]
  },
  {
   "cell_type": "code",
   "execution_count": 31,
   "metadata": {},
   "outputs": [
    {
     "data": {
      "text/html": [
       "<div>\n",
       "<style scoped>\n",
       "    .dataframe tbody tr th:only-of-type {\n",
       "        vertical-align: middle;\n",
       "    }\n",
       "\n",
       "    .dataframe tbody tr th {\n",
       "        vertical-align: top;\n",
       "    }\n",
       "\n",
       "    .dataframe thead th {\n",
       "        text-align: right;\n",
       "    }\n",
       "</style>\n",
       "<table border=\"1\" class=\"dataframe\">\n",
       "  <thead>\n",
       "    <tr style=\"text-align: right;\">\n",
       "      <th></th>\n",
       "      <th>text</th>\n",
       "      <th>category</th>\n",
       "    </tr>\n",
       "  </thead>\n",
       "  <tbody>\n",
       "    <tr>\n",
       "      <th>0</th>\n",
       "      <td>musicians tackle red tape musicians groups tac...</td>\n",
       "      <td>entertainment</td>\n",
       "    </tr>\n",
       "    <tr>\n",
       "      <th>1</th>\n",
       "      <td>u2 desire number u2 won prestigious grammy awa...</td>\n",
       "      <td>entertainment</td>\n",
       "    </tr>\n",
       "    <tr>\n",
       "      <th>2</th>\n",
       "      <td>rocker doherty stage fight rock singer pete do...</td>\n",
       "      <td>entertainment</td>\n",
       "    </tr>\n",
       "    <tr>\n",
       "      <th>3</th>\n",
       "      <td>snicket tops box office chart film adaptation ...</td>\n",
       "      <td>entertainment</td>\n",
       "    </tr>\n",
       "    <tr>\n",
       "      <th>4</th>\n",
       "      <td>ocean raids box office ocean crime caper seque...</td>\n",
       "      <td>entertainment</td>\n",
       "    </tr>\n",
       "  </tbody>\n",
       "</table>\n",
       "</div>"
      ],
      "text/plain": [
       "                                                text       category\n",
       "0  musicians tackle red tape musicians groups tac...  entertainment\n",
       "1  u2 desire number u2 won prestigious grammy awa...  entertainment\n",
       "2  rocker doherty stage fight rock singer pete do...  entertainment\n",
       "3  snicket tops box office chart film adaptation ...  entertainment\n",
       "4  ocean raids box office ocean crime caper seque...  entertainment"
      ]
     },
     "execution_count": 31,
     "metadata": {},
     "output_type": "execute_result"
    }
   ],
   "source": [
    "df = apply_tf_idf(df)\n",
    "df.head() # Sample"
   ]
  },
  {
   "cell_type": "code",
   "execution_count": 32,
   "metadata": {},
   "outputs": [
    {
     "data": {
      "text/html": [
       "<div>\n",
       "<style scoped>\n",
       "    .dataframe tbody tr th:only-of-type {\n",
       "        vertical-align: middle;\n",
       "    }\n",
       "\n",
       "    .dataframe tbody tr th {\n",
       "        vertical-align: top;\n",
       "    }\n",
       "\n",
       "    .dataframe thead th {\n",
       "        text-align: right;\n",
       "    }\n",
       "</style>\n",
       "<table border=\"1\" class=\"dataframe\">\n",
       "  <thead>\n",
       "    <tr style=\"text-align: right;\">\n",
       "      <th></th>\n",
       "      <th>lengths</th>\n",
       "      <th>mean</th>\n",
       "      <th>stdev</th>\n",
       "    </tr>\n",
       "  </thead>\n",
       "  <tbody>\n",
       "    <tr>\n",
       "      <th>entertainment</th>\n",
       "      <td>[165, 375, 174, 108, 167, 189, 130, 230, 115, ...</td>\n",
       "      <td>168.585492</td>\n",
       "      <td>118.648402</td>\n",
       "    </tr>\n",
       "    <tr>\n",
       "      <th>sport</th>\n",
       "      <td>[86, 86, 92, 72, 71, 68, 703, 257, 226, 71, 71...</td>\n",
       "      <td>159.681018</td>\n",
       "      <td>92.709783</td>\n",
       "    </tr>\n",
       "    <tr>\n",
       "      <th>business</th>\n",
       "      <td>[90, 82, 105, 169, 229, 321, 100, 85, 82, 127,...</td>\n",
       "      <td>172.876471</td>\n",
       "      <td>65.119283</td>\n",
       "    </tr>\n",
       "    <tr>\n",
       "      <th>politics</th>\n",
       "      <td>[115, 297, 289, 116, 208, 235, 231, 183, 113, ...</td>\n",
       "      <td>215.347722</td>\n",
       "      <td>128.812873</td>\n",
       "    </tr>\n",
       "    <tr>\n",
       "      <th>tech</th>\n",
       "      <td>[194, 117, 274, 135, 223, 170, 222, 165, 168, ...</td>\n",
       "      <td>241.835411</td>\n",
       "      <td>103.570666</td>\n",
       "    </tr>\n",
       "  </tbody>\n",
       "</table>\n",
       "</div>"
      ],
      "text/plain": [
       "                                                         lengths        mean  \\\n",
       "entertainment  [165, 375, 174, 108, 167, 189, 130, 230, 115, ...  168.585492   \n",
       "sport          [86, 86, 92, 72, 71, 68, 703, 257, 226, 71, 71...  159.681018   \n",
       "business       [90, 82, 105, 169, 229, 321, 100, 85, 82, 127,...  172.876471   \n",
       "politics       [115, 297, 289, 116, 208, 235, 231, 183, 113, ...  215.347722   \n",
       "tech           [194, 117, 274, 135, 223, 170, 222, 165, 168, ...  241.835411   \n",
       "\n",
       "                    stdev  \n",
       "entertainment  118.648402  \n",
       "sport           92.709783  \n",
       "business        65.119283  \n",
       "politics       128.812873  \n",
       "tech           103.570666  "
      ]
     },
     "execution_count": 32,
     "metadata": {},
     "output_type": "execute_result"
    }
   ],
   "source": [
    "df_stats['tf_idf'] = calculate_stats(df)\n",
    "df_stats['tf_idf']['per_category']"
   ]
  },
  {
   "cell_type": "markdown",
   "metadata": {},
   "source": [
    "## Summary of parsed dataset"
   ]
  },
  {
   "cell_type": "code",
   "execution_count": 43,
   "metadata": {},
   "outputs": [
    {
     "data": {
      "text/plain": [
       "<Figure size 1080x576 with 0 Axes>"
      ]
     },
     "metadata": {},
     "output_type": "display_data"
    },
    {
     "data": {
      "image/png": "[encoded data removed]",
      "text/plain": [
       "<Figure size 1080x576 with 1 Axes>"
      ]
     },
     "metadata": {
      "needs_background": "light"
     },
     "output_type": "display_data"
    }
   ],
   "source": [
    "plt.figure(figsize=(15, 8))\n",
    "\n",
    "# Subplot of all lengths\n",
    "names = ['lematization', 'stop_words', 'tf_idf']\n",
    "mean = []\n",
    "stdev = []\n",
    "\n",
    "for name, ds in df_stats.items():\n",
    "    if name not in names:\n",
    "        continue\n",
    "    \n",
    "    mean.append(ds['global']['mean'])\n",
    "    stdev.append(ds['global']['stdev'])\n",
    "\n",
    "x = ['Lemmatization', 'Stop words', 'TF-IDF']\n",
    "\n",
    "plt.figure(figsize=(15, 8))\n",
    "plt.plot(x, mean, color='b', label='Mean', linestyle='-')\n",
    "plt.plot(x, stdev, color='b', label='Standard deviation', linestyle='--')\n",
    "plt.grid()\n",
    "plt.legend()\n",
    "plt.show()"
   ]
  },
  {
   "cell_type": "markdown",
   "metadata": {},
   "source": [
    "## Store parsed dataset\n",
    "\n",
    "Finally, I have stored the dataset as a CSV file, so I could use it to train different models :)"
   ]
  },
  {
   "cell_type": "code",
   "execution_count": 49,
   "metadata": {},
   "outputs": [],
   "source": [
    "df.to_csv('../data/parsed/tfidf_dataset.csv', index_label=False)"
   ]
  },
  {
   "cell_type": "code",
   "execution_count": null,
   "metadata": {},
   "outputs": [],
   "source": []
  }
 ],
 "metadata": {
  "kernelspec": {
   "display_name": "Python 3",
   "language": "python",
   "name": "python3"
  },
  "language_info": {
   "codemirror_mode": {
    "name": "ipython",
    "version": 3
   },
   "file_extension": ".py",
   "mimetype": "text/x-python",
   "name": "python",
   "nbconvert_exporter": "python",
   "pygments_lexer": "ipython3",
   "version": "3.7.4"
  }
 },
 "nbformat": 4,
 "nbformat_minor": 4
}
