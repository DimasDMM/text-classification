{
 "cells": [
  {
   "cell_type": "markdown",
   "metadata": {},
   "source": [
    "# Training with SVM\n",
    "\n",
    "In this approach, I chose a **SVM** model, which is already implemented in the library Scikit-Learn."
   ]
  },
  {
   "cell_type": "code",
   "execution_count": 1,
   "metadata": {},
   "outputs": [],
   "source": [
    "import pickle\n",
    "import numpy as np\n",
    "import pandas as pd\n",
    "import seaborn as sns\n",
    "import matplotlib.pyplot as plt\n",
    "\n",
    "from sklearn import model_selection\n",
    "from sklearn.metrics import accuracy_score, confusion_matrix, classification_report\n",
    "from sklearn.linear_model import SGDClassifier\n",
    "from sklearn.pipeline import Pipeline\n",
    "from sklearn.feature_extraction.text import CountVectorizer\n",
    "from sklearn.model_selection import train_test_split"
   ]
  },
  {
   "cell_type": "code",
   "execution_count": 2,
   "metadata": {},
   "outputs": [],
   "source": [
    "def get_categories(df):\n",
    "    return df['category'].unique()"
   ]
  },
  {
   "cell_type": "markdown",
   "metadata": {},
   "source": [
    "## Prepare dataset\n",
    "\n",
    "In comparison to the LSTM notebook, you can notice that it is very simple to configure a SVM model as many functions are already implemented."
   ]
  },
  {
   "cell_type": "code",
   "execution_count": 3,
   "metadata": {},
   "outputs": [
    {
     "data": {
      "text/html": [
       "<div>\n",
       "<style scoped>\n",
       "    .dataframe tbody tr th:only-of-type {\n",
       "        vertical-align: middle;\n",
       "    }\n",
       "\n",
       "    .dataframe tbody tr th {\n",
       "        vertical-align: top;\n",
       "    }\n",
       "\n",
       "    .dataframe thead th {\n",
       "        text-align: right;\n",
       "    }\n",
       "</style>\n",
       "<table border=\"1\" class=\"dataframe\">\n",
       "  <thead>\n",
       "    <tr style=\"text-align: right;\">\n",
       "      <th></th>\n",
       "      <th>text</th>\n",
       "      <th>category</th>\n",
       "    </tr>\n",
       "  </thead>\n",
       "  <tbody>\n",
       "    <tr>\n",
       "      <th>0</th>\n",
       "      <td>musicians tackle red tape musicians groups tac...</td>\n",
       "      <td>entertainment</td>\n",
       "    </tr>\n",
       "    <tr>\n",
       "      <th>1</th>\n",
       "      <td>u2 desire number u2 won prestigious grammy awa...</td>\n",
       "      <td>entertainment</td>\n",
       "    </tr>\n",
       "    <tr>\n",
       "      <th>2</th>\n",
       "      <td>rocker doherty stage fight rock singer pete do...</td>\n",
       "      <td>entertainment</td>\n",
       "    </tr>\n",
       "    <tr>\n",
       "      <th>3</th>\n",
       "      <td>snicket tops box office chart film adaptation ...</td>\n",
       "      <td>entertainment</td>\n",
       "    </tr>\n",
       "    <tr>\n",
       "      <th>4</th>\n",
       "      <td>ocean raids box office ocean crime caper seque...</td>\n",
       "      <td>entertainment</td>\n",
       "    </tr>\n",
       "  </tbody>\n",
       "</table>\n",
       "</div>"
      ],
      "text/plain": [
       "                                                text       category\n",
       "0  musicians tackle red tape musicians groups tac...  entertainment\n",
       "1  u2 desire number u2 won prestigious grammy awa...  entertainment\n",
       "2  rocker doherty stage fight rock singer pete do...  entertainment\n",
       "3  snicket tops box office chart film adaptation ...  entertainment\n",
       "4  ocean raids box office ocean crime caper seque...  entertainment"
      ]
     },
     "execution_count": 3,
     "metadata": {},
     "output_type": "execute_result"
    }
   ],
   "source": [
    "df = pd.read_csv('../data/parsed/tfidf_dataset.csv')\n",
    "df.head()"
   ]
  },
  {
   "cell_type": "code",
   "execution_count": 4,
   "metadata": {},
   "outputs": [],
   "source": [
    "X_data = df[['text']].to_numpy().reshape(-1)\n",
    "Y_data = df[['category']].to_numpy().reshape(-1)"
   ]
  },
  {
   "cell_type": "code",
   "execution_count": 6,
   "metadata": {},
   "outputs": [
    {
     "name": "stdout",
     "output_type": "stream",
     "text": [
      "Texts in dataset: 2225\n",
      "Number of categories: 5\n",
      "Loading train dataset...\n",
      "Done!\n"
     ]
    }
   ],
   "source": [
    "n_texts = len(X_data)\n",
    "print('Texts in dataset: %d' % n_texts)\n",
    "\n",
    "n_categories = len(get_categories(df))\n",
    "print('Number of categories: %d' % n_categories)\n",
    "\n",
    "print('Loading train dataset...')\n",
    "X_train, X_test, Y_train, Y_test = train_test_split(X_data, Y_data, test_size=0.3)\n",
    "\n",
    "print('Done!')"
   ]
  },
  {
   "cell_type": "markdown",
   "metadata": {},
   "source": [
    "## Create SVM model\n",
    "\n",
    "Here I used `GridSearch` and cross-validation to find the best parameters."
   ]
  },
  {
   "cell_type": "code",
   "execution_count": 8,
   "metadata": {
    "scrolled": true
   },
   "outputs": [
    {
     "name": "stdout",
     "output_type": "stream",
     "text": [
      "Fitting 10 folds for each of 48 candidates, totalling 480 fits\n"
     ]
    },
    {
     "name": "stderr",
     "output_type": "stream",
     "text": [
      "[Parallel(n_jobs=1)]: Using backend SequentialBackend with 1 concurrent workers.\n",
      "/Users/dimasdmm/opt/anaconda3/lib/python3.7/site-packages/sklearn/linear_model/_stochastic_gradient.py:557: ConvergenceWarning: Maximum number of iteration reached before convergence. Consider increasing max_iter to improve the fit.\n",
      "  ConvergenceWarning)\n",
      "[Parallel(n_jobs=1)]: Done 480 out of 480 | elapsed: 14.3min finished\n"
     ]
    },
    {
     "data": {
      "text/plain": [
       "GridSearchCV(cv=10, error_score=nan,\n",
       "             estimator=Pipeline(memory=None,\n",
       "                                steps=[('vect',\n",
       "                                        CountVectorizer(analyzer='word',\n",
       "                                                        binary=False,\n",
       "                                                        decode_error='strict',\n",
       "                                                        dtype=<class 'numpy.int64'>,\n",
       "                                                        encoding='utf-8',\n",
       "                                                        input='content',\n",
       "                                                        lowercase=False,\n",
       "                                                        max_df=1.0,\n",
       "                                                        max_features=None,\n",
       "                                                        min_df=1,\n",
       "                                                        ngram_range=(1, 1),\n",
       "                                                        preprocessor=None,\n",
       "                                                        stop_words=None,\n",
       "                                                        strip_accents=None,\n",
       "                                                        token_pattern='(?...\n",
       "                                                      validation_fraction=0.1,\n",
       "                                                      verbose=0,\n",
       "                                                      warm_start=False))],\n",
       "                                verbose=False),\n",
       "             iid='deprecated', n_jobs=None,\n",
       "             param_grid={'svm__alpha': [0.001, 0.0001, 1e-05],\n",
       "                         'svm__loss': ['hinge', 'modified_huber', 'log',\n",
       "                                       'squared_loss'],\n",
       "                         'svm__penalty': ['l1', 'l2'],\n",
       "                         'svm__random_state': [42],\n",
       "                         'svm__tol': [0.001, 0.0001]},\n",
       "             pre_dispatch='2*n_jobs', refit=True, return_train_score=False,\n",
       "             scoring=None, verbose=1)"
      ]
     },
     "execution_count": 8,
     "metadata": {},
     "output_type": "execute_result"
    }
   ],
   "source": [
    "model_params = {\n",
    "    'svm__loss': ['hinge', 'modified_huber', 'log', 'squared_loss'],\n",
    "    'svm__penalty': ['l1', 'l2'],\n",
    "    'svm__alpha': [1e-3, 1e-4, 1e-5],\n",
    "    'svm__tol': [1e-3, 1e-4],\n",
    "    'svm__random_state': [42]\n",
    "}\n",
    "\n",
    "svm_model = Pipeline([('vect', CountVectorizer(strip_accents=None, lowercase=False)),\n",
    "                      ('svm', SGDClassifier())])\n",
    "\n",
    "# 10-fold cross validation\n",
    "clf = model_selection.GridSearchCV(svm_model,\n",
    "                                   model_params,\n",
    "                                   cv=10,\n",
    "                                   verbose=1)\n",
    "clf.fit(X_train, Y_train)"
   ]
  },
  {
   "cell_type": "code",
   "execution_count": 9,
   "metadata": {},
   "outputs": [
    {
     "name": "stdout",
     "output_type": "stream",
     "text": [
      "Best parameters set:\n",
      "{'svm__alpha': 0.001, 'svm__loss': 'modified_huber', 'svm__penalty': 'l2', 'svm__random_state': 42, 'svm__tol': 0.0001}\n"
     ]
    }
   ],
   "source": [
    "print('Best parameters set:')\n",
    "print(clf.best_params_)"
   ]
  },
  {
   "cell_type": "markdown",
   "metadata": {},
   "source": [
    "## Evaluation\n",
    "\n",
    "It took very few time to train the model and the results are pretty good. This approach got a global accuracy of $96.86\\%$, which is slightly more than the LSTM model and, in comparison to that model, SVM is much faster to train."
   ]
  },
  {
   "cell_type": "code",
   "execution_count": 10,
   "metadata": {},
   "outputs": [],
   "source": [
    "def plot_confusion_matrix(X_test, Y_test, model):\n",
    "    Y_pred = model.predict(X_test)\n",
    "\n",
    "    con_mat = confusion_matrix(Y_test, Y_pred)\n",
    "    con_mat_norm = np.around(con_mat.astype('float') / con_mat.sum(axis=1)[:, np.newaxis], decimals=2)\n",
    "\n",
    "    label_names = list(range(len(con_mat_norm)))\n",
    "    con_mat_df = pd.DataFrame(con_mat_norm,\n",
    "                              index=label_names, \n",
    "                              columns=label_names)\n",
    "\n",
    "    figure = plt.figure(figsize=(10, 10))\n",
    "    sns.heatmap(con_mat_df, cmap=plt.cm.Blues, annot=True)\n",
    "    plt.ylabel('True label')\n",
    "    plt.xlabel('Predicted label')"
   ]
  },
  {
   "cell_type": "code",
   "execution_count": 11,
   "metadata": {},
   "outputs": [],
   "source": [
    "Y_pred = clf.predict(X_test)"
   ]
  },
  {
   "cell_type": "code",
   "execution_count": 12,
   "metadata": {},
   "outputs": [
    {
     "name": "stdout",
     "output_type": "stream",
     "text": [
      "Accuracy: 0.9686\n",
      "Classification report:\n",
      "               precision    recall  f1-score   support\n",
      "\n",
      "     business       0.93      0.97      0.95       141\n",
      "entertainment       0.99      0.97      0.98       108\n",
      "     politics       0.99      0.94      0.96       149\n",
      "        sport       0.99      0.98      0.99       154\n",
      "         tech       0.94      0.98      0.96       116\n",
      "\n",
      "     accuracy                           0.97       668\n",
      "    macro avg       0.97      0.97      0.97       668\n",
      " weighted avg       0.97      0.97      0.97       668\n",
      "\n"
     ]
    }
   ],
   "source": [
    "print('Accuracy: %.4f' % accuracy_score(Y_pred, Y_test))\n",
    "\n",
    "print('Classification report:')\n",
    "print(classification_report(Y_test, Y_pred))"
   ]
  },
  {
   "cell_type": "code",
   "execution_count": 13,
   "metadata": {},
   "outputs": [
    {
     "data": {
      "image/png": "[encoded data removed]",
      "text/plain": [
       "<Figure size 720x720 with 2 Axes>"
      ]
     },
     "metadata": {
      "needs_background": "light"
     },
     "output_type": "display_data"
    }
   ],
   "source": [
    "plot_confusion_matrix(X_test, Y_test, clf)"
   ]
  },
  {
   "cell_type": "markdown",
   "metadata": {},
   "source": [
    "## Save the model"
   ]
  },
  {
   "cell_type": "code",
   "execution_count": 14,
   "metadata": {},
   "outputs": [],
   "source": [
    "def create_artifacts_dir():\n",
    "    try:\n",
    "        os.mkdir('../artifacts')\n",
    "    except:\n",
    "        pass"
   ]
  },
  {
   "cell_type": "code",
   "execution_count": 15,
   "metadata": {},
   "outputs": [],
   "source": [
    "def save_model(model):\n",
    "    with open('../artifacts/svm.pickle', 'wb') as fp:\n",
    "        pickle.dump(model, fp, protocol=pickle.HIGHEST_PROTOCOL)"
   ]
  },
  {
   "cell_type": "code",
   "execution_count": 16,
   "metadata": {},
   "outputs": [],
   "source": [
    "create_artifacts_dir()\n",
    "save_model(clf)"
   ]
  },
  {
   "cell_type": "code",
   "execution_count": null,
   "metadata": {},
   "outputs": [],
   "source": []
  }
 ],
 "metadata": {
  "kernelspec": {
   "display_name": "Python 3",
   "language": "python",
   "name": "python3"
  },
  "language_info": {
   "codemirror_mode": {
    "name": "ipython",
    "version": 3
   },
   "file_extension": ".py",
   "mimetype": "text/x-python",
   "name": "python",
   "nbconvert_exporter": "python",
   "pygments_lexer": "ipython3",
   "version": "3.7.4"
  }
 },
 "nbformat": 4,
 "nbformat_minor": 4
}
